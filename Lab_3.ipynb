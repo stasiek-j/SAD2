{
  "nbformat": 4,
  "nbformat_minor": 0,
  "metadata": {
    "colab": {
      "provenance": [],
      "authorship_tag": "ABX9TyNLkFT/dgZZCptNVbVeR7eH",
      "include_colab_link": true
    },
    "kernelspec": {
      "name": "python3",
      "display_name": "Python 3"
    },
    "language_info": {
      "name": "python"
    }
  },
  "cells": [
    {
      "cell_type": "markdown",
      "metadata": {
        "id": "view-in-github",
        "colab_type": "text"
      },
      "source": [
        "<a href=\"https://colab.research.google.com/github/stasiek-j/SAD2/blob/main/Lab_3.ipynb\" target=\"_parent\"><img src=\"https://colab.research.google.com/assets/colab-badge.svg\" alt=\"Open In Colab\"/></a>"
      ]
    },
    {
      "cell_type": "code",
      "execution_count": null,
      "metadata": {
        "colab": {
          "base_uri": "https://localhost:8080/"
        },
        "id": "-7GkV56tbOMX",
        "outputId": "35ce5ce2-42ce-4792-ed3f-cbf8a91f58ea"
      },
      "outputs": [
        {
          "output_type": "execute_result",
          "data": {
            "text/plain": [
              "<torch._C.Generator at 0x7f702bfdf1b0>"
            ]
          },
          "metadata": {},
          "execution_count": 6
        }
      ],
      "source": [
        "from torch import distributions\n",
        "import sklearn, torch\n",
        "torch.manual_seed(42)"
      ]
    },
    {
      "cell_type": "code",
      "source": [
        "K = 3\n",
        "N = 2\n",
        "size = (K, N)"
      ],
      "metadata": {
        "id": "QTEJtuhObVDL"
      },
      "execution_count": null,
      "outputs": []
    },
    {
      "cell_type": "code",
      "source": [
        "component = distributions.Independent(distributions.Normal(\n",
        "    torch.randn(size), torch.rand(size)), 1)\n",
        "mixture = distributions.Categorical(torch.ones(K,))\n",
        "\n",
        "gmm = distributions.MixtureSameFamily(mixture, component)"
      ],
      "metadata": {
        "id": "2OXwoB75cD4-"
      },
      "execution_count": null,
      "outputs": []
    },
    {
      "cell_type": "code",
      "source": [
        "gmm.sample()"
      ],
      "metadata": {
        "colab": {
          "base_uri": "https://localhost:8080/"
        },
        "id": "d3CqkjKvfs8Y",
        "outputId": "44a1735d-9759-4951-e78a-7ef0b45cadf5"
      },
      "execution_count": null,
      "outputs": [
        {
          "output_type": "execute_result",
          "data": {
            "text/plain": [
              "tensor([0.8017, 0.5883])"
            ]
          },
          "metadata": {},
          "execution_count": 9
        }
      ]
    },
    {
      "cell_type": "code",
      "source": [
        "d = gmm.sample((10,))\n",
        "print(d)\n",
        "d.shape"
      ],
      "metadata": {
        "colab": {
          "base_uri": "https://localhost:8080/"
        },
        "id": "U5Fh7-08h65H",
        "outputId": "49b84cb5-74b5-4ff0-b2c6-ff6379dc10c1"
      },
      "execution_count": null,
      "outputs": [
        {
          "output_type": "stream",
          "name": "stdout",
          "text": [
            "tensor([[-0.0876,  0.8052],\n",
            "        [-2.1717,  0.6077],\n",
            "        [-0.5629,  0.4603],\n",
            "        [ 0.3422,  0.3295],\n",
            "        [ 0.8366, -0.2355],\n",
            "        [-0.1124, -0.1567],\n",
            "        [ 0.9697, -0.2746],\n",
            "        [ 1.4971,  0.4033],\n",
            "        [ 0.9680,  0.1806],\n",
            "        [ 0.4519,  0.5627]])\n"
          ]
        },
        {
          "output_type": "execute_result",
          "data": {
            "text/plain": [
              "torch.Size([10, 2])"
            ]
          },
          "metadata": {},
          "execution_count": 10
        }
      ]
    },
    {
      "cell_type": "code",
      "source": [
        "parameters = [1, [.5], [.5]]"
      ],
      "metadata": {
        "id": "LYKVYEzZkaOL"
      },
      "execution_count": null,
      "outputs": []
    },
    {
      "cell_type": "code",
      "source": [
        "def sample_multivariate():\n",
        "  pass"
      ],
      "metadata": {
        "id": "FVLAp5uKlujv"
      },
      "execution_count": null,
      "outputs": []
    },
    {
      "cell_type": "code",
      "source": [
        "def e_step(data, params):\n",
        "  for i in range(data.shape[0]):\n",
        "    x = data[i, 0]\n",
        "    y = data[i, 1]\n",
        "    pcluster1 = \n",
        "    print(x)\n",
        "\n",
        "  pass\n",
        "\n",
        "\n",
        "def m_step():\n",
        "  pass"
      ],
      "metadata": {
        "id": "gL4FU5sNg8Mg"
      },
      "execution_count": null,
      "outputs": []
    },
    {
      "cell_type": "code",
      "source": [
        "e_step(d, parameters)"
      ],
      "metadata": {
        "colab": {
          "base_uri": "https://localhost:8080/"
        },
        "id": "j0SnarNDhIep",
        "outputId": "5cd84b02-849e-427f-ca27-a219e24c9359"
      },
      "execution_count": null,
      "outputs": [
        {
          "output_type": "stream",
          "name": "stdout",
          "text": [
            "tensor(-0.3813)\n",
            "tensor(0.8443)\n",
            "tensor(-1.8538)\n",
            "tensor(3.2614)\n",
            "tensor(0.1813)\n",
            "tensor(1.6670)\n",
            "tensor(3.2550)\n",
            "tensor(0.8692)\n",
            "tensor(-0.8103)\n",
            "tensor(2.5540)\n"
          ]
        }
      ]
    },
    {
      "cell_type": "code",
      "source": [],
      "metadata": {
        "id": "1Z3kjCLPijNT"
      },
      "execution_count": null,
      "outputs": []
    }
  ]
}