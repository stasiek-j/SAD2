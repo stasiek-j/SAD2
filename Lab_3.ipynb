{
  "nbformat": 4,
  "nbformat_minor": 0,
  "metadata": {
    "colab": {
      "provenance": [],
      "authorship_tag": "ABX9TyNJ/ngecI/OvUqLQMm2jm0y",
      "include_colab_link": true
    },
    "kernelspec": {
      "name": "python3",
      "display_name": "Python 3"
    },
    "language_info": {
      "name": "python"
    }
  },
  "cells": [
    {
      "cell_type": "markdown",
      "metadata": {
        "id": "view-in-github",
        "colab_type": "text"
      },
      "source": [
        "<a href=\"https://colab.research.google.com/github/stasiek-j/SAD2/blob/main/Lab_3.ipynb\" target=\"_parent\"><img src=\"https://colab.research.google.com/assets/colab-badge.svg\" alt=\"Open In Colab\"/></a>"
      ]
    },
    {
      "cell_type": "code",
      "execution_count": 1,
      "metadata": {
        "colab": {
          "base_uri": "https://localhost:8080/"
        },
        "id": "-7GkV56tbOMX",
        "outputId": "30c68a25-55bf-4b33-eef3-9e08efa27b0b"
      },
      "outputs": [
        {
          "output_type": "execute_result",
          "data": {
            "text/plain": [
              "<torch._C.Generator at 0x7f6d5ef238f0>"
            ]
          },
          "metadata": {},
          "execution_count": 1
        }
      ],
      "source": [
        "from torch import distributions\n",
        "import sklearn, torch\n",
        "import numpy as np\n",
        "torch.manual_seed(42)"
      ]
    },
    {
      "cell_type": "code",
      "source": [
        "K = 3 # Ilość klastrów\n",
        "N = 2 # Ilu wymiarowe dane \n",
        "size = (K, N)"
      ],
      "metadata": {
        "id": "QTEJtuhObVDL"
      },
      "execution_count": 2,
      "outputs": []
    },
    {
      "cell_type": "code",
      "source": [
        "component = distributions.Independent(distributions.Normal(\n",
        "    torch.randn(size), torch.rand(size)), 1)\n",
        "mixture = distributions.Categorical(torch.ones(K,))\n",
        "\n",
        "gmm = distributions.MixtureSameFamily(mixture, component)"
      ],
      "metadata": {
        "id": "2OXwoB75cD4-"
      },
      "execution_count": 3,
      "outputs": []
    },
    {
      "cell_type": "code",
      "source": [
        "gmm.sample()"
      ],
      "metadata": {
        "colab": {
          "base_uri": "https://localhost:8080/"
        },
        "id": "d3CqkjKvfs8Y",
        "outputId": "54922f40-51c8-4ca4-e120-ab474844e0e3"
      },
      "execution_count": 4,
      "outputs": [
        {
          "output_type": "execute_result",
          "data": {
            "text/plain": [
              "tensor([0.8017, 0.5883])"
            ]
          },
          "metadata": {},
          "execution_count": 4
        }
      ]
    },
    {
      "cell_type": "code",
      "source": [
        "d = gmm.sample((10,))\n",
        "print(d)\n",
        "d.shape"
      ],
      "metadata": {
        "colab": {
          "base_uri": "https://localhost:8080/"
        },
        "id": "U5Fh7-08h65H",
        "outputId": "9c2c6c86-8dc3-492d-8654-7589db6f1b7d"
      },
      "execution_count": 5,
      "outputs": [
        {
          "output_type": "stream",
          "name": "stdout",
          "text": [
            "tensor([[-0.0876,  0.8052],\n",
            "        [-2.1717,  0.6077],\n",
            "        [-0.5629,  0.4603],\n",
            "        [ 0.3422,  0.3295],\n",
            "        [ 0.8366, -0.2355],\n",
            "        [-0.1124, -0.1567],\n",
            "        [ 0.9697, -0.2746],\n",
            "        [ 1.4971,  0.4033],\n",
            "        [ 0.9680,  0.1806],\n",
            "        [ 0.4519,  0.5627]])\n"
          ]
        },
        {
          "output_type": "execute_result",
          "data": {
            "text/plain": [
              "torch.Size([10, 2])"
            ]
          },
          "metadata": {},
          "execution_count": 5
        }
      ]
    },
    {
      "cell_type": "code",
      "source": [
        "gmm.component_distribution"
      ],
      "metadata": {
        "colab": {
          "base_uri": "https://localhost:8080/"
        },
        "id": "0yiLMukhQJF2",
        "outputId": "43e89f7f-9864-4db5-8ddc-adc49b9f8d32"
      },
      "execution_count": 6,
      "outputs": [
        {
          "output_type": "execute_result",
          "data": {
            "text/plain": [
              "Independent(Normal(loc: torch.Size([3, 2]), scale: torch.Size([3, 2])), 1)"
            ]
          },
          "metadata": {},
          "execution_count": 6
        }
      ]
    },
    {
      "cell_type": "code",
      "source": [
        "parameters = [(torch.Tensor([.5, .5]), torch.Tensor([[.5, 0], [0, .5]])),\n",
        "              (torch.Tensor([.4, .4]), torch.Tensor([[.2, 0], [0, .2]]))]\n",
        "\n",
        "def initialize_params(size):\n",
        "  f = lambda n: (torch.randn(n), torch.diag(torch.rand(n)))\n",
        "  return [f(size[1]) for _ in range(size[0])]\n",
        "\n",
        "parameters = initialize_params(size)\n",
        "parameters"
      ],
      "metadata": {
        "id": "LYKVYEzZkaOL",
        "colab": {
          "base_uri": "https://localhost:8080/"
        },
        "outputId": "cef02fa6-df1a-46a3-b0f3-86f0759c7b5e"
      },
      "execution_count": 7,
      "outputs": [
        {
          "output_type": "execute_result",
          "data": {
            "text/plain": [
              "[(tensor([-0.6556,  0.8576]), tensor([[0.0766, 0.0000],\n",
              "          [0.0000, 0.8460]])),\n",
              " (tensor([ 1.2176, -0.8914]), tensor([[0.6431, 0.0000],\n",
              "          [0.0000, 0.3908]])),\n",
              " (tensor([-2.4752, -0.9316]), tensor([[0.4137, 0.0000],\n",
              "          [0.0000, 0.6044]]))]"
            ]
          },
          "metadata": {},
          "execution_count": 7
        }
      ]
    },
    {
      "cell_type": "code",
      "source": [
        "def prob(x, params):\n",
        "  dis = distributions.MultivariateNormal(*params)\n",
        "  return dis.log_prob(x)"
      ],
      "metadata": {
        "id": "FVLAp5uKlujv"
      },
      "execution_count": 8,
      "outputs": []
    },
    {
      "cell_type": "code",
      "source": [
        "def e_step(data, params):\n",
        "  ret = []\n",
        "  for i in range(data.shape[0]):\n",
        "    x = data[i, :]\n",
        "    pclusters = np.array([prob(x, param) for param in params])\n",
        "    ret.append(np.argmax(pclusters))\n",
        "  return np.array(ret)\n",
        "\n",
        "\n",
        "def m_step(data, params, clusters):\n",
        "  cluster = {i: [] for i in range(len(params))}\n",
        "  for i in range(len(data)):\n",
        "    cluster[clusters[i]].append(data[i, :])\n",
        "  percents = [len(cluster[i])/len(data) for i in range(len(params))]\n",
        "  print(cluster)\n",
        "  print(percents)\n",
        "  pass"
      ],
      "metadata": {
        "id": "gL4FU5sNg8Mg"
      },
      "execution_count": 9,
      "outputs": []
    },
    {
      "cell_type": "code",
      "source": [
        "post_e = e_step(d, parameters)\n",
        "post_e"
      ],
      "metadata": {
        "colab": {
          "base_uri": "https://localhost:8080/"
        },
        "id": "j0SnarNDhIep",
        "outputId": "d6c088ec-bc12-4929-b86c-8bcb147f2ca5"
      },
      "execution_count": 10,
      "outputs": [
        {
          "output_type": "execute_result",
          "data": {
            "text/plain": [
              "array([0, 2, 0, 1, 1, 0, 1, 1, 1, 1])"
            ]
          },
          "metadata": {},
          "execution_count": 10
        }
      ]
    },
    {
      "cell_type": "code",
      "source": [
        "m_step(d, parameters, post_e)"
      ],
      "metadata": {
        "id": "1Z3kjCLPijNT",
        "colab": {
          "base_uri": "https://localhost:8080/"
        },
        "outputId": "13da2c1b-4d94-42ec-ba2d-562ac4a7751c"
      },
      "execution_count": 11,
      "outputs": [
        {
          "output_type": "stream",
          "name": "stdout",
          "text": [
            "{0: [tensor([-0.0876,  0.8052]), tensor([-0.5629,  0.4603]), tensor([-0.1124, -0.1567])], 1: [tensor([0.3422, 0.3295]), tensor([ 0.8366, -0.2355]), tensor([ 0.9697, -0.2746]), tensor([1.4971, 0.4033]), tensor([0.9680, 0.1806]), tensor([0.4519, 0.5627])], 2: [tensor([-2.1717,  0.6077])]}\n",
            "[0.3, 0.6, 0.1]\n"
          ]
        }
      ]
    },
    {
      "cell_type": "code",
      "source": [
        "d"
      ],
      "metadata": {
        "colab": {
          "base_uri": "https://localhost:8080/"
        },
        "id": "NZnCDjc5zScL",
        "outputId": "31986269-238e-4c44-b026-239e7126b6ec"
      },
      "execution_count": 12,
      "outputs": [
        {
          "output_type": "execute_result",
          "data": {
            "text/plain": [
              "tensor([[-0.0876,  0.8052],\n",
              "        [-2.1717,  0.6077],\n",
              "        [-0.5629,  0.4603],\n",
              "        [ 0.3422,  0.3295],\n",
              "        [ 0.8366, -0.2355],\n",
              "        [-0.1124, -0.1567],\n",
              "        [ 0.9697, -0.2746],\n",
              "        [ 1.4971,  0.4033],\n",
              "        [ 0.9680,  0.1806],\n",
              "        [ 0.4519,  0.5627]])"
            ]
          },
          "metadata": {},
          "execution_count": 12
        }
      ]
    },
    {
      "cell_type": "code",
      "source": [],
      "metadata": {
        "id": "qEAdQvm9zcYU"
      },
      "execution_count": 12,
      "outputs": []
    }
  ]
}