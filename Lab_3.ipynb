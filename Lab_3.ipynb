{
  "nbformat": 4,
  "nbformat_minor": 0,
  "metadata": {
    "colab": {
      "provenance": [],
      "authorship_tag": "ABX9TyNWwrHdAmnZ3Ppw+BZtyjZN",
      "include_colab_link": true
    },
    "kernelspec": {
      "name": "python3",
      "display_name": "Python 3"
    },
    "language_info": {
      "name": "python"
    }
  },
  "cells": [
    {
      "cell_type": "markdown",
      "metadata": {
        "id": "view-in-github",
        "colab_type": "text"
      },
      "source": [
        "<a href=\"https://colab.research.google.com/github/stasiek-j/SAD2/blob/main/Lab_3.ipynb\" target=\"_parent\"><img src=\"https://colab.research.google.com/assets/colab-badge.svg\" alt=\"Open In Colab\"/></a>"
      ]
    },
    {
      "cell_type": "code",
      "execution_count": 1,
      "metadata": {
        "colab": {
          "base_uri": "https://localhost:8080/"
        },
        "id": "-7GkV56tbOMX",
        "outputId": "49250be3-98ee-41f2-d093-eb0c9388cae4"
      },
      "outputs": [
        {
          "output_type": "execute_result",
          "data": {
            "text/plain": [
              "<torch._C.Generator at 0x7f61e42938d0>"
            ]
          },
          "metadata": {},
          "execution_count": 1
        }
      ],
      "source": [
        "from torch import distributions\n",
        "import sklearn, torch\n",
        "torch.manual_seed(42)"
      ]
    },
    {
      "cell_type": "code",
      "source": [
        "K = 3 # Ilość klastrów\n",
        "N = 2 # Ilu wymiarowe dane \n",
        "size = (K, N)"
      ],
      "metadata": {
        "id": "QTEJtuhObVDL"
      },
      "execution_count": 2,
      "outputs": []
    },
    {
      "cell_type": "code",
      "source": [
        "component = distributions.Independent(distributions.Normal(\n",
        "    torch.randn(size), torch.rand(size)), 1)\n",
        "mixture = distributions.Categorical(torch.ones(K,))\n",
        "\n",
        "gmm = distributions.MixtureSameFamily(mixture, component)"
      ],
      "metadata": {
        "id": "2OXwoB75cD4-"
      },
      "execution_count": 3,
      "outputs": []
    },
    {
      "cell_type": "code",
      "source": [
        "gmm.sample()"
      ],
      "metadata": {
        "colab": {
          "base_uri": "https://localhost:8080/"
        },
        "id": "d3CqkjKvfs8Y",
        "outputId": "de87fd97-d63d-4d75-dd7e-9fc00a6f3bdc"
      },
      "execution_count": 4,
      "outputs": [
        {
          "output_type": "execute_result",
          "data": {
            "text/plain": [
              "tensor([0.8017, 0.5883])"
            ]
          },
          "metadata": {},
          "execution_count": 4
        }
      ]
    },
    {
      "cell_type": "code",
      "source": [
        "d = gmm.sample((10,))\n",
        "print(d)\n",
        "d.shape"
      ],
      "metadata": {
        "colab": {
          "base_uri": "https://localhost:8080/"
        },
        "id": "U5Fh7-08h65H",
        "outputId": "b661df82-2ac7-44c7-845e-a306e3035a32"
      },
      "execution_count": 5,
      "outputs": [
        {
          "output_type": "stream",
          "name": "stdout",
          "text": [
            "tensor([[-0.0876,  0.8052],\n",
            "        [-2.1717,  0.6077],\n",
            "        [-0.5629,  0.4603],\n",
            "        [ 0.3422,  0.3295],\n",
            "        [ 0.8366, -0.2355],\n",
            "        [-0.1124, -0.1567],\n",
            "        [ 0.9697, -0.2746],\n",
            "        [ 1.4971,  0.4033],\n",
            "        [ 0.9680,  0.1806],\n",
            "        [ 0.4519,  0.5627]])\n"
          ]
        },
        {
          "output_type": "execute_result",
          "data": {
            "text/plain": [
              "torch.Size([10, 2])"
            ]
          },
          "metadata": {},
          "execution_count": 5
        }
      ]
    },
    {
      "cell_type": "code",
      "source": [
        "gmm.component_distribution"
      ],
      "metadata": {
        "colab": {
          "base_uri": "https://localhost:8080/"
        },
        "id": "0yiLMukhQJF2",
        "outputId": "c2cbafe7-3f9d-4cd4-ed4c-7cde9fe782fb"
      },
      "execution_count": 6,
      "outputs": [
        {
          "output_type": "execute_result",
          "data": {
            "text/plain": [
              "Independent(Normal(loc: torch.Size([3, 2]), scale: torch.Size([3, 2])), 1)"
            ]
          },
          "metadata": {},
          "execution_count": 6
        }
      ]
    },
    {
      "cell_type": "code",
      "source": [
        "parameters = [(torch.Tensor([.5, .5]), torch.Tensor([[.5, 0], [0, .5]])),\n",
        "              (torch.Tensor([.4, .4]), torch.Tensor([[.2, 0], [0, .2]]))]"
      ],
      "metadata": {
        "id": "LYKVYEzZkaOL"
      },
      "execution_count": 7,
      "outputs": []
    },
    {
      "cell_type": "code",
      "source": [
        "def prob(x, params):\n",
        "  dis = distributions.MultivariateNormal(*params)\n",
        "  return dis.log_prob(x)"
      ],
      "metadata": {
        "id": "FVLAp5uKlujv"
      },
      "execution_count": 8,
      "outputs": []
    },
    {
      "cell_type": "code",
      "source": [
        "def e_step(data, params):\n",
        "  for i in range(data.shape[0]):\n",
        "    x = data[i, 0]\n",
        "    y = data[i, 1]\n",
        "    pcluster1 = prob(torch.Tensor((x, y)), params[0])\n",
        "    pcluster2 = prob(torch.Tensor((x, y)), params[1])\n",
        "    print(pcluster1, pcluster2)\n",
        "\n",
        "  pass\n",
        "\n",
        "\n",
        "def m_step():\n",
        "  pass"
      ],
      "metadata": {
        "id": "gL4FU5sNg8Mg"
      },
      "execution_count": 9,
      "outputs": []
    },
    {
      "cell_type": "code",
      "source": [
        "e_step(d, parameters)"
      ],
      "metadata": {
        "colab": {
          "base_uri": "https://localhost:8080/"
        },
        "id": "j0SnarNDhIep",
        "outputId": "a0492be2-4871-4f3a-8bf5-7354655a75fb"
      },
      "execution_count": 10,
      "outputs": [
        {
          "output_type": "stream",
          "name": "stdout",
          "text": [
            "tensor(-1.5831) tensor(-1.2332)\n",
            "tensor(-8.2943) tensor(-16.8703)\n",
            "tensor(-2.2760) tensor(-2.5553)\n",
            "tensor(-1.1987) tensor(-0.2492)\n",
            "tensor(-1.7990) tensor(-1.7147)\n",
            "tensor(-1.9510) tensor(-1.6596)\n",
            "tensor(-1.9654) tensor(-2.1777)\n",
            "tensor(-2.1483) tensor(-3.2375)\n",
            "tensor(-1.4658) tensor(-1.1555)\n",
            "tensor(-1.1510) tensor(-0.3013)\n"
          ]
        }
      ]
    },
    {
      "cell_type": "code",
      "source": [],
      "metadata": {
        "id": "1Z3kjCLPijNT"
      },
      "execution_count": 10,
      "outputs": []
    }
  ]
}