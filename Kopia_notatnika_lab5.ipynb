{
  "cells": [
    {
      "cell_type": "markdown",
      "metadata": {
        "id": "view-in-github",
        "colab_type": "text"
      },
      "source": [
        "<a href=\"https://colab.research.google.com/github/stasiek-j/SAD2/blob/main/Kopia_notatnika_lab5.ipynb\" target=\"_parent\"><img src=\"https://colab.research.google.com/assets/colab-badge.svg\" alt=\"Open In Colab\"/></a>"
      ]
    },
    {
      "cell_type": "markdown",
      "source": [
        "# SAD2 2022/2023 - Introduction to Variational Inference\n",
        "\n",
        "This week we will introduce the variational inference. The concepts discussed in previous week, namely MLE, ELBO, and KL divergence come together in this framework. Variational inference embraces a family of methods for approximating complicated densities by a simpler class of densities, as introduced [here](https://www.cs.toronto.edu/~bonner/courses/2020s/csc2547/week2/variational-inference-tutorial,-mohamed,-2015.pdf).\n",
        "\n",
        "This week we will start working with Pyro. Pyro is a dynamic object-oriented programming language created to support what we call the probabilistic programming. Pyro combines the elegance and expressiveness of Python with the performance and robustness of C++. Pyro is built on top of the PyTorch library and uses the same underlying C++ code.\n",
        "\n",
        "This lab is heavily based on [Pyro tutorial on Stochastic Variational Inference](https://pyro.ai/examples/svi_part_i.html). It is possible to implement this exercise solely based on this tutorial, however, we want to let you know that there are more useful resources regarding Pyro (cue Project 1 ;)):\n",
        "\n",
        "   - [Introduction to Pyro](http://pyro.ai/examples/intro_long.html)\n",
        "   - [GMM in Pyro](https://pyro.ai/examples/gmm.html)\n",
        "   - [SVI Part II: Conditional Independence, Subsampling, and Amortization](https://pyro.ai/examples/svi_part_ii.html)"
      ],
      "metadata": {
        "collapsed": false,
        "pycharm": {
          "name": "#%% md\n"
        },
        "id": "1ddqAVuspIl7"
      }
    },
    {
      "cell_type": "code",
      "execution_count": 1,
      "outputs": [
        {
          "output_type": "stream",
          "name": "stdout",
          "text": [
            "Looking in indexes: https://pypi.org/simple, https://us-python.pkg.dev/colab-wheels/public/simple/\n",
            "Requirement already satisfied: pyro-ppl in /usr/local/lib/python3.7/dist-packages (1.8.2)\n",
            "Requirement already satisfied: numpy>=1.7 in /usr/local/lib/python3.7/dist-packages (from pyro-ppl) (1.21.6)\n",
            "Requirement already satisfied: tqdm>=4.36 in /usr/local/lib/python3.7/dist-packages (from pyro-ppl) (4.64.1)\n",
            "Requirement already satisfied: torch>=1.11.0 in /usr/local/lib/python3.7/dist-packages (from pyro-ppl) (1.12.1+cu113)\n",
            "Requirement already satisfied: pyro-api>=0.1.1 in /usr/local/lib/python3.7/dist-packages (from pyro-ppl) (0.1.2)\n",
            "Requirement already satisfied: opt-einsum>=2.3.2 in /usr/local/lib/python3.7/dist-packages (from pyro-ppl) (3.3.0)\n",
            "Requirement already satisfied: typing-extensions in /usr/local/lib/python3.7/dist-packages (from torch>=1.11.0->pyro-ppl) (4.1.1)\n"
          ]
        }
      ],
      "source": [
        "import random\n",
        "from collections import defaultdict\n",
        "\n",
        "import torch\n",
        "!pip3 install pyro-ppl\n",
        "import pyro\n",
        "\n",
        "import numpy as np\n",
        "import pandas as pd\n",
        "\n",
        "# PLOTTING\n",
        "import matplotlib.pyplot as plt\n",
        "import seaborn as sns\n",
        "from tqdm import tqdm\n"
      ],
      "metadata": {
        "pycharm": {
          "name": "#%%\n"
        },
        "id": "RZVjVqvSpIl-",
        "colab": {
          "base_uri": "https://localhost:8080/"
        },
        "outputId": "06c57cda-c5cc-4eb2-aec8-0ac5cb4f44f6"
      }
    },
    {
      "cell_type": "markdown",
      "source": [
        "## 0. The \"Variational\" in \"Variational Inference\"\n",
        "\n",
        "The \"Variational\" in \"Variational Inference\" is a reference to the fact that in variational inference we optimize a function, called the variational lower bound, over a set of variables known as variational parameters. The variational parameters are usually chosen to be the natural parameters of a probability distribution, which means that they can be used to define a probability distribution. The goal of variational inference is to find a set of variational parameters that makes the variational lower bound as tight as possible.\n",
        "\n",
        "There are many different ways to formulate the variational lower bound, but the most common one is based on the Kullback-Leibler (KL) divergence. The KL divergence is a measure of the difference between two probability distributions. In the context of variational inference, we can think of the KL divergence as a measure of the difference between the true posterior distribution and the approximate posterior distribution. The goal of variational inference is to find a set of variational parameters that minimizes the KL divergence between the true posterior and the approximate posterior.\n",
        "\n",
        "Recall the KL divergence is defined as:\n",
        "\n",
        "$KL(p||q) = \\sum_x p(x) \\log \\frac{p(x)}{q(x)}$\n",
        "\n",
        "where $p$ and $q$ are two probability distributions. In the context of variational inference, $p$ is the true posterior distribution and $q$ is the approximate posterior distribution.\n",
        "\n",
        "The variational lower bound is then defined as:\n",
        "\n",
        "$\\mathcal{L}(p, q) = \\sum_x p(x) \\log q(x) - KL(p||q)$\n",
        "\n",
        "The goal of variational inference is to find a set of variational parameters that minimizes the KL divergence between the true posterior and the approximate posterior. In other words, we want to find a set of variational parameters that makes the variational lower bound as tight as possible.\n",
        "\n",
        "There are many different ways to optimize the variational lower bound. The most common one is gradient descent. In gradient descent, we take the gradient of the variational lower bound with respect to the variational parameters and then update the variational parameters in the direction that maximizes the variational lower bound.\n",
        "\n",
        "There are many different ways to initialize the variational parameters. The most common one is to initialize them randomly. Once the variational parameters have been optimized, we can then use them to define a probability distribution. This probability distribution is our approximate posterior distribution. We can then use this approximate posterior distribution to make predictions about the data.\n",
        "\n",
        "There are many different ways to evaluate the quality of the approximate posterior distribution as well. The most common one is to compute the KL divergence between the true posterior and the approximate posterior. Other common evaluation metrics include the log-likelihood and the predictive accuracy."
      ],
      "metadata": {
        "collapsed": false,
        "pycharm": {
          "name": "#%% md\n"
        },
        "id": "swW67ze2pImB"
      }
    },
    {
      "cell_type": "markdown",
      "source": [
        "## 1. ELBO and KL divergence in Variational Inference [TODO]\n",
        "Same question, differently formulated: Explain VI using only (mostly) ELBO and KL divergence\n"
      ],
      "metadata": {
        "collapsed": false,
        "pycharm": {
          "name": "#%% md\n"
        },
        "id": "norB_yp-pImD"
      }
    },
    {
      "cell_type": "markdown",
      "source": [
        "## 2. Infer the posterior distribution of $\\mu$ and $\\sigma$ ($\\tau$) in the example form the lecture."
      ],
      "metadata": {
        "collapsed": false,
        "pycharm": {
          "name": "#%% md\n"
        },
        "id": "Bia5FU9hpImE"
      }
    },
    {
      "cell_type": "markdown",
      "source": [
        "## Problem statement"
      ],
      "metadata": {
        "collapsed": false,
        "pycharm": {
          "name": "#%% md\n"
        },
        "id": "lSlxhFX9pImF"
      }
    },
    {
      "cell_type": "code",
      "execution_count": 2,
      "outputs": [],
      "source": [
        "# fig, ax = plt.subplots(1, 1)\n",
        "# ax.imshow(plt.imread('img.png'))\n",
        "\n",
        "# # Hide grid lines\n",
        "# ax.grid(False)\n",
        "\n",
        "# # Hide axes ticks\n",
        "# ax.set_xticks([])\n",
        "# ax.set_yticks([])\n",
        "# plt.show()"
      ],
      "metadata": {
        "pycharm": {
          "name": "#%%\n"
        },
        "id": "cPGhYqDUpImG"
      }
    },
    {
      "cell_type": "markdown",
      "source": [
        "### Draw data"
      ],
      "metadata": {
        "collapsed": false,
        "pycharm": {
          "name": "#%% md\n"
        },
        "id": "G7K9LOrOpImI"
      }
    },
    {
      "cell_type": "code",
      "execution_count": 3,
      "outputs": [],
      "source": [
        "from torch.distributions import Normal\n",
        "\n",
        "MEAN = 5.0\n",
        "STD = 0.5\n",
        "N_SAMPLES = 200\n",
        "\n",
        "#smoll data\n",
        "# data = torch.tensor([10., 10., 10., 10., 10.])\n",
        "\n",
        "# #big data\n",
        "NORMAL = Normal(torch.tensor([MEAN]), torch.tensor([STD]))\n",
        "data = NORMAL.sample((N_SAMPLES,))"
      ],
      "metadata": {
        "pycharm": {
          "name": "#%%\n"
        },
        "id": "PQJ1giJUpImJ"
      }
    },
    {
      "cell_type": "markdown",
      "source": [
        "### Define model\n",
        "See [Models in Pyro](http://pyro.ai/examples/intro_long.html#:~:text=%C2%B6-,Probabilistic,-models%20in%20Pyro)"
      ],
      "metadata": {
        "collapsed": false,
        "pycharm": {
          "name": "#%% md\n"
        },
        "id": "yMy5oUGApImL"
      }
    },
    {
      "cell_type": "code",
      "execution_count": 4,
      "outputs": [],
      "source": [
        "import pyro.distributions as dist\n",
        "\n",
        "def model(data):\n",
        "    ### PLS, WRITE ME ###\n",
        "    a = pyro.param('a', lambda: torch.tensor(2.7))\n",
        "    b = pyro.param('b', lambda: torch.tensor(6.3))\n",
        "    mu = pyro.param('mu', lambda: torch.tensor(0.))\n",
        "    sigma  = pyro.param('sigma', lambda: torch.tensor(1.), constraint=dist.constraints.positive)\n",
        "    std = pyro.sample(\"std\", dist.Gamma(a, b))\n",
        "    mean = pyro.sample(\"mean\", dist.Normal(mu, sigma))\n",
        "    with pyro.plate(f\"N = {len(data)}\", len(data)):\n",
        "      obss = pyro.sample(f\"obs_\", dist.Normal(mean, std), obs=data.reshape(len(data)))\n",
        "    return std, mean, obss"
      ],
      "metadata": {
        "pycharm": {
          "name": "#%%\n"
        },
        "id": "5OBYw8eHpImM"
      }
    },
    {
      "cell_type": "code",
      "execution_count": 5,
      "outputs": [
        {
          "output_type": "stream",
          "name": "stdout",
          "text": [
            "tensor([4.4616, 4.6474, 5.3749, 5.0107, 4.6428, 4.3204, 5.5378, 4.6646, 4.1228,\n",
            "        5.3904, 4.9222, 4.9911, 4.7839, 4.5928, 4.8962, 4.6584, 5.1304, 5.3413,\n",
            "        4.6361, 5.5458, 4.4013, 4.3677, 5.7290, 4.2057, 5.4043, 4.6437, 5.3174,\n",
            "        4.1972, 5.1657, 4.5648, 4.5723, 5.2991, 5.3886, 5.1163, 4.7041, 4.5703,\n",
            "        5.4748, 4.5586, 5.1604, 5.3901, 4.6959, 5.0941, 5.5667, 5.0525, 4.1332,\n",
            "        5.2184, 5.2692, 5.1976, 4.7743, 4.0962, 5.1089, 5.6852, 5.1442, 4.8742,\n",
            "        5.0902, 4.9496, 5.3115, 5.6608, 5.4203, 4.2992, 4.9257, 4.7235, 5.2132,\n",
            "        5.7466, 4.7670, 5.4693, 5.1545, 5.2668, 5.0732, 5.5440, 5.2835, 4.5877,\n",
            "        5.5964, 4.9978, 5.5978, 5.1836, 4.8280, 5.0982, 5.3457, 5.4021, 5.2836,\n",
            "        4.3186, 5.3306, 5.5609, 4.0159, 4.7937, 4.6135, 4.9510, 4.6187, 4.8365,\n",
            "        5.3603, 5.0773, 5.2911, 5.2452, 4.4326, 5.9457, 5.5819, 5.8032, 4.9617,\n",
            "        4.4874, 4.0369, 5.0411, 4.2967, 5.1335, 5.3967, 5.6331, 5.0648, 5.2511,\n",
            "        5.0482, 4.3381, 4.8885, 4.2586, 4.7045, 4.2192, 4.5309, 4.7828, 5.1886,\n",
            "        5.1954, 4.1326, 4.9160, 4.9603, 5.3142, 4.9414, 4.4833, 4.9834, 4.9937,\n",
            "        4.8949, 4.3429, 4.5132, 4.7066, 5.3571, 4.5436, 5.0566, 4.7241, 4.8777,\n",
            "        4.9720, 5.6751, 4.6037, 5.1202, 4.9485, 4.4816, 4.8021, 3.9792, 4.4769,\n",
            "        5.1757, 4.6487, 5.1825, 4.2106, 5.5614, 5.7359, 5.2356, 5.4956, 4.1884,\n",
            "        5.4609, 5.0253, 4.9147, 4.8614, 4.6040, 4.6893, 4.1325, 5.4425, 5.1220,\n",
            "        4.5901, 4.8690, 4.8893, 4.4477, 5.7475, 5.4660, 5.2914, 5.6443, 5.7023,\n",
            "        4.6487, 5.3588, 5.1888, 5.2382, 4.7537, 4.7882, 4.8711, 4.9693, 5.1267,\n",
            "        4.5639, 4.4545, 5.1307, 5.5099, 5.0377, 5.1451, 4.9989, 5.4314, 4.8938,\n",
            "        5.3808, 4.1119, 5.0351, 5.4759, 4.2771, 5.1085, 5.3316, 4.4338, 4.6322,\n",
            "        5.4251, 5.9560])\n"
          ]
        },
        {
          "output_type": "execute_result",
          "data": {
            "text/plain": [
              "<graphviz.dot.Digraph at 0x7f8491495f50>"
            ],
            "image/svg+xml": "<?xml version=\"1.0\" encoding=\"UTF-8\" standalone=\"no\"?>\n<!DOCTYPE svg PUBLIC \"-//W3C//DTD SVG 1.1//EN\"\n \"http://www.w3.org/Graphics/SVG/1.1/DTD/svg11.dtd\">\n<!-- Generated by graphviz version 2.40.1 (20161225.0304)\n -->\n<!-- Title: %3 Pages: 1 -->\n<svg width=\"418pt\" height=\"304pt\"\n viewBox=\"0.00 0.00 418.00 304.00\" xmlns=\"http://www.w3.org/2000/svg\" xmlns:xlink=\"http://www.w3.org/1999/xlink\">\n<g id=\"graph0\" class=\"graph\" transform=\"scale(1 1) rotate(0) translate(4 300)\">\n<title>%3</title>\n<polygon fill=\"#ffffff\" stroke=\"transparent\" points=\"-4,4 -4,-300 414,-300 414,4 -4,4\"/>\n<g id=\"clust1\" class=\"cluster\">\n<title>cluster_N = 200</title>\n<polygon fill=\"none\" stroke=\"#000000\" points=\"52,-8 52,-83 126,-83 126,-8 52,-8\"/>\n<text text-anchor=\"middle\" x=\"93.5\" y=\"-15.8\" font-family=\"Times,serif\" font-size=\"14.00\" fill=\"#000000\">N = 200</text>\n</g>\n<!-- std -->\n<g id=\"node1\" class=\"node\">\n<title>std</title>\n<ellipse fill=\"#ffffff\" stroke=\"#000000\" cx=\"127\" cy=\"-129\" rx=\"27\" ry=\"18\"/>\n<text text-anchor=\"middle\" x=\"127\" y=\"-125.3\" font-family=\"Times,serif\" font-size=\"14.00\" fill=\"#000000\">std</text>\n</g>\n<!-- obs_ -->\n<g id=\"node7\" class=\"node\">\n<title>obs_</title>\n<ellipse fill=\"#c0c0c0\" stroke=\"#000000\" cx=\"89\" cy=\"-57\" rx=\"28.6953\" ry=\"18\"/>\n<text text-anchor=\"middle\" x=\"89\" y=\"-53.3\" font-family=\"Times,serif\" font-size=\"14.00\" fill=\"#000000\">obs_</text>\n</g>\n<!-- std&#45;&gt;obs_ -->\n<g id=\"edge1\" class=\"edge\">\n<title>std&#45;&gt;obs_</title>\n<path fill=\"none\" stroke=\"#000000\" d=\"M117.9945,-111.937C113.5172,-103.4537 108.0048,-93.0092 102.993,-83.513\"/>\n<polygon fill=\"#000000\" stroke=\"#000000\" points=\"105.9678,-81.6509 98.2048,-74.4407 99.7771,-84.9182 105.9678,-81.6509\"/>\n</g>\n<!-- mean -->\n<g id=\"node2\" class=\"node\">\n<title>mean</title>\n<ellipse fill=\"#ffffff\" stroke=\"#000000\" cx=\"51\" cy=\"-129\" rx=\"30.5947\" ry=\"18\"/>\n<text text-anchor=\"middle\" x=\"51\" y=\"-125.3\" font-family=\"Times,serif\" font-size=\"14.00\" fill=\"#000000\">mean</text>\n</g>\n<!-- mean&#45;&gt;obs_ -->\n<g id=\"edge2\" class=\"edge\">\n<title>mean&#45;&gt;obs_</title>\n<path fill=\"none\" stroke=\"#000000\" d=\"M60.1987,-111.5708C64.6797,-103.0807 70.1621,-92.6929 75.1366,-83.2674\"/>\n<polygon fill=\"#000000\" stroke=\"#000000\" points=\"78.3137,-84.7462 79.886,-74.2687 72.123,-81.4789 78.3137,-84.7462\"/>\n</g>\n<!-- sigma -->\n<g id=\"node3\" class=\"node\">\n<title>sigma</title>\n<polygon fill=\"#ffffff\" stroke=\"transparent\" points=\"34,-247 0,-247 0,-232 34,-232 34,-247\"/>\n<text text-anchor=\"middle\" x=\"17\" y=\"-235.8\" font-family=\"Times,serif\" font-size=\"14.00\" fill=\"#000000\">sigma</text>\n</g>\n<!-- sigma&#45;&gt;mean -->\n<g id=\"edge5\" class=\"edge\">\n<title>sigma&#45;&gt;mean</title>\n<path fill=\"none\" stroke=\"#000000\" d=\"M19.337,-231.9049C24.0313,-216.6484 34.813,-181.6078 42.4887,-156.6616\"/>\n<polygon fill=\"#000000\" stroke=\"#000000\" points=\"45.8648,-157.5906 45.4605,-147.0035 39.1743,-155.532 45.8648,-157.5906\"/>\n</g>\n<!-- b -->\n<g id=\"node4\" class=\"node\">\n<title>b</title>\n<polygon fill=\"#ffffff\" stroke=\"transparent\" points=\"120,-247 112,-247 112,-232 120,-232 120,-247\"/>\n<text text-anchor=\"middle\" x=\"116\" y=\"-235.8\" font-family=\"Times,serif\" font-size=\"14.00\" fill=\"#000000\">b</text>\n</g>\n<!-- b&#45;&gt;std -->\n<g id=\"edge3\" class=\"edge\">\n<title>b&#45;&gt;std</title>\n<path fill=\"none\" stroke=\"#000000\" d=\"M116.7561,-231.9049C118.2681,-216.7162 121.7321,-181.9189 124.2132,-156.9948\"/>\n<polygon fill=\"#000000\" stroke=\"#000000\" points=\"127.6999,-157.3011 125.2078,-147.0035 120.7343,-156.6076 127.6999,-157.3011\"/>\n</g>\n<!-- mu -->\n<g id=\"node5\" class=\"node\">\n<title>mu</title>\n<polygon fill=\"#ffffff\" stroke=\"transparent\" points=\"71.5,-247 52.5,-247 52.5,-232 71.5,-232 71.5,-247\"/>\n<text text-anchor=\"middle\" x=\"62\" y=\"-235.8\" font-family=\"Times,serif\" font-size=\"14.00\" fill=\"#000000\">mu</text>\n</g>\n<!-- mu&#45;&gt;mean -->\n<g id=\"edge6\" class=\"edge\">\n<title>mu&#45;&gt;mean</title>\n<path fill=\"none\" stroke=\"#000000\" d=\"M61.2439,-231.9049C59.7319,-216.7162 56.2679,-181.9189 53.7868,-156.9948\"/>\n<polygon fill=\"#000000\" stroke=\"#000000\" points=\"57.2657,-156.6076 52.7922,-147.0035 50.3001,-157.3011 57.2657,-156.6076\"/>\n</g>\n<!-- a -->\n<g id=\"node6\" class=\"node\">\n<title>a</title>\n<polygon fill=\"#ffffff\" stroke=\"transparent\" points=\"145.5,-247 138.5,-247 138.5,-232 145.5,-232 145.5,-247\"/>\n<text text-anchor=\"middle\" x=\"142\" y=\"-235.8\" font-family=\"Times,serif\" font-size=\"14.00\" fill=\"#000000\">a</text>\n</g>\n<!-- a&#45;&gt;std -->\n<g id=\"edge4\" class=\"edge\">\n<title>a&#45;&gt;std</title>\n<path fill=\"none\" stroke=\"#000000\" d=\"M140.969,-231.9049C138.9072,-216.7162 134.1836,-181.9189 130.8002,-156.9948\"/>\n<polygon fill=\"#000000\" stroke=\"#000000\" points=\"134.2573,-156.4418 129.4439,-147.0035 127.3209,-157.3835 134.2573,-156.4418\"/>\n</g>\n<!-- distribution_description_node -->\n<g id=\"node8\" class=\"node\">\n<title>distribution_description_node</title>\n<text text-anchor=\"start\" x=\"172\" y=\"-280.8\" font-family=\"Times,serif\" font-size=\"14.00\" fill=\"#000000\">std ~ Gamma</text>\n<text text-anchor=\"start\" x=\"172\" y=\"-265.8\" font-family=\"Times,serif\" font-size=\"14.00\" fill=\"#000000\">mean ~ Normal</text>\n<text text-anchor=\"start\" x=\"172\" y=\"-250.8\" font-family=\"Times,serif\" font-size=\"14.00\" fill=\"#000000\">obs_ ~ Normal</text>\n<text text-anchor=\"start\" x=\"172\" y=\"-235.8\" font-family=\"Times,serif\" font-size=\"14.00\" fill=\"#000000\">a : Real()</text>\n<text text-anchor=\"start\" x=\"172\" y=\"-220.8\" font-family=\"Times,serif\" font-size=\"14.00\" fill=\"#000000\">b : Real()</text>\n<text text-anchor=\"start\" x=\"172\" y=\"-205.8\" font-family=\"Times,serif\" font-size=\"14.00\" fill=\"#000000\">mu : Real()</text>\n<text text-anchor=\"start\" x=\"172\" y=\"-190.8\" font-family=\"Times,serif\" font-size=\"14.00\" fill=\"#000000\">sigma : GreaterThan(lower_bound=0.0)</text>\n</g>\n</g>\n</svg>\n"
          },
          "metadata": {},
          "execution_count": 5
        }
      ],
      "source": [
        "# sudo apt-get install graphviz\n",
        "# pip install graphviz\n",
        "print(data.reshape(len(data)))\n",
        "pyro.render_model(model, model_args=(data,), render_distributions=True, render_params=True)"
      ],
      "metadata": {
        "pycharm": {
          "name": "#%%\n"
        },
        "id": "fikMqee9pImN",
        "outputId": "b2f35305-82e1-4384-ac0e-cb33970b3ab5",
        "colab": {
          "base_uri": "https://localhost:8080/",
          "height": 826
        }
      }
    },
    {
      "cell_type": "markdown",
      "source": [
        "### Define guide $q_{\\phi}({\\bf z})$\n",
        "\n",
        "See [Guides in Pyro](http://pyro.ai/examples/intro_long.html#:~:text=original%20KL%2Ddivergence.-,Background%3A%20%E2%80%9Cguide%E2%80%9D%20programs%20as%20flexible%20approximate%20posteriors,%C2%B6,-In%20variational%20inference)\n"
      ],
      "metadata": {
        "collapsed": false,
        "pycharm": {
          "name": "#%% md\n"
        },
        "id": "P1dT-3fRpImO"
      }
    },
    {
      "cell_type": "code",
      "execution_count": 6,
      "outputs": [],
      "source": [
        "def guide(data):\n",
        "    ### PLS, WRITE ME ###\n",
        "    alpha_q = pyro.param('a', lambda: torch.tensor(3.3), constraint=dist.constraints.positive)\n",
        "    beta_q = pyro.param('b', lambda: torch.tensor(7.1), constraint=dist.constraints.positive)\n",
        "    mu_q = pyro.param('mu', lambda: torch.tensor(.3))\n",
        "    lambda_q  = pyro.param('sigma', lambda: torch.tensor(.4), constraint=dist.constraints.positive)\n",
        "\n",
        "    std = pyro.sample(\"std\", dist.Gamma(alpha_q, beta_q))\n",
        "    mean = pyro.sample(\"mean\", dist.Normal(mu_q, lambda_q))\n",
        "\n",
        "    return {\"alpha_q\": alpha_q, \"beta_q\": beta_q, \"mu_q\": mu_q, \"lambda_q\": lambda_q, \"mean\": mean, \"std\": std}"
      ],
      "metadata": {
        "pycharm": {
          "name": "#%%\n"
        },
        "id": "j2eZm3VYpImP"
      }
    },
    {
      "cell_type": "code",
      "execution_count": 7,
      "outputs": [
        {
          "output_type": "execute_result",
          "data": {
            "text/plain": [
              "<graphviz.dot.Digraph at 0x7f840c546e90>"
            ],
            "image/svg+xml": "<?xml version=\"1.0\" encoding=\"UTF-8\" standalone=\"no\"?>\n<!DOCTYPE svg PUBLIC \"-//W3C//DTD SVG 1.1//EN\"\n \"http://www.w3.org/Graphics/SVG/1.1/DTD/svg11.dtd\">\n<!-- Generated by graphviz version 2.40.1 (20161225.0304)\n -->\n<!-- Title: %3 Pages: 1 -->\n<svg width=\"418pt\" height=\"178pt\"\n viewBox=\"0.00 0.00 418.00 178.00\" xmlns=\"http://www.w3.org/2000/svg\" xmlns:xlink=\"http://www.w3.org/1999/xlink\">\n<g id=\"graph0\" class=\"graph\" transform=\"scale(1 1) rotate(0) translate(4 174)\">\n<title>%3</title>\n<polygon fill=\"#ffffff\" stroke=\"transparent\" points=\"-4,4 -4,-174 414,-174 414,4 -4,4\"/>\n<!-- std -->\n<g id=\"node1\" class=\"node\">\n<title>std</title>\n<ellipse fill=\"#ffffff\" stroke=\"#000000\" cx=\"27\" cy=\"-18\" rx=\"27\" ry=\"18\"/>\n<text text-anchor=\"middle\" x=\"27\" y=\"-14.3\" font-family=\"Times,serif\" font-size=\"14.00\" fill=\"#000000\">std</text>\n</g>\n<!-- mean -->\n<g id=\"node2\" class=\"node\">\n<title>mean</title>\n<ellipse fill=\"#ffffff\" stroke=\"#000000\" cx=\"119\" cy=\"-18\" rx=\"30.5947\" ry=\"18\"/>\n<text text-anchor=\"middle\" x=\"119\" y=\"-14.3\" font-family=\"Times,serif\" font-size=\"14.00\" fill=\"#000000\">mean</text>\n</g>\n<!-- sigma -->\n<g id=\"node3\" class=\"node\">\n<title>sigma</title>\n<polygon fill=\"#ffffff\" stroke=\"transparent\" points=\"108,-128.5 74,-128.5 74,-113.5 108,-113.5 108,-128.5\"/>\n<text text-anchor=\"middle\" x=\"91\" y=\"-117.3\" font-family=\"Times,serif\" font-size=\"14.00\" fill=\"#000000\">sigma</text>\n</g>\n<!-- sigma&#45;&gt;mean -->\n<g id=\"edge3\" class=\"edge\">\n<title>sigma&#45;&gt;mean</title>\n<path fill=\"none\" stroke=\"#000000\" d=\"M93.1046,-113.2583C96.9427,-99.1395 105.2527,-68.5705 111.4295,-45.8485\"/>\n<polygon fill=\"#000000\" stroke=\"#000000\" points=\"114.8479,-46.616 114.0937,-36.048 108.093,-44.7797 114.8479,-46.616\"/>\n</g>\n<!-- b -->\n<g id=\"node4\" class=\"node\">\n<title>b</title>\n<polygon fill=\"#ffffff\" stroke=\"transparent\" points=\"18,-128.5 10,-128.5 10,-113.5 18,-113.5 18,-128.5\"/>\n<text text-anchor=\"middle\" x=\"14\" y=\"-117.3\" font-family=\"Times,serif\" font-size=\"14.00\" fill=\"#000000\">b</text>\n</g>\n<!-- b&#45;&gt;std -->\n<g id=\"edge1\" class=\"edge\">\n<title>b&#45;&gt;std</title>\n<path fill=\"none\" stroke=\"#000000\" d=\"M14.9771,-113.2583C16.7511,-99.2031 20.5826,-68.8456 23.4463,-46.156\"/>\n<polygon fill=\"#000000\" stroke=\"#000000\" points=\"26.9423,-46.4076 24.7221,-36.048 19.9974,-45.531 26.9423,-46.4076\"/>\n</g>\n<!-- mu -->\n<g id=\"node5\" class=\"node\">\n<title>mu</title>\n<polygon fill=\"#ffffff\" stroke=\"transparent\" points=\"145.5,-128.5 126.5,-128.5 126.5,-113.5 145.5,-113.5 145.5,-128.5\"/>\n<text text-anchor=\"middle\" x=\"136\" y=\"-117.3\" font-family=\"Times,serif\" font-size=\"14.00\" fill=\"#000000\">mu</text>\n</g>\n<!-- mu&#45;&gt;mean -->\n<g id=\"edge4\" class=\"edge\">\n<title>mu&#45;&gt;mean</title>\n<path fill=\"none\" stroke=\"#000000\" d=\"M134.7222,-113.2583C132.4024,-99.2031 127.392,-68.8456 123.6471,-46.156\"/>\n<polygon fill=\"#000000\" stroke=\"#000000\" points=\"127.0606,-45.3446 121.9788,-36.048 120.1541,-46.4845 127.0606,-45.3446\"/>\n</g>\n<!-- a -->\n<g id=\"node6\" class=\"node\">\n<title>a</title>\n<polygon fill=\"#ffffff\" stroke=\"transparent\" points=\"43.5,-128.5 36.5,-128.5 36.5,-113.5 43.5,-113.5 43.5,-128.5\"/>\n<text text-anchor=\"middle\" x=\"40\" y=\"-117.3\" font-family=\"Times,serif\" font-size=\"14.00\" fill=\"#000000\">a</text>\n</g>\n<!-- a&#45;&gt;std -->\n<g id=\"edge2\" class=\"edge\">\n<title>a&#45;&gt;std</title>\n<path fill=\"none\" stroke=\"#000000\" d=\"M39.0229,-113.2583C37.2489,-99.2031 33.4174,-68.8456 30.5537,-46.156\"/>\n<polygon fill=\"#000000\" stroke=\"#000000\" points=\"34.0026,-45.531 29.2779,-36.048 27.0577,-46.4076 34.0026,-45.531\"/>\n</g>\n<!-- distribution_description_node -->\n<g id=\"node7\" class=\"node\">\n<title>distribution_description_node</title>\n<text text-anchor=\"start\" x=\"172\" y=\"-154.8\" font-family=\"Times,serif\" font-size=\"14.00\" fill=\"#000000\">std ~ Gamma</text>\n<text text-anchor=\"start\" x=\"172\" y=\"-139.8\" font-family=\"Times,serif\" font-size=\"14.00\" fill=\"#000000\">mean ~ Normal</text>\n<text text-anchor=\"start\" x=\"172\" y=\"-124.8\" font-family=\"Times,serif\" font-size=\"14.00\" fill=\"#000000\">a : GreaterThan(lower_bound=0.0)</text>\n<text text-anchor=\"start\" x=\"172\" y=\"-109.8\" font-family=\"Times,serif\" font-size=\"14.00\" fill=\"#000000\">b : GreaterThan(lower_bound=0.0)</text>\n<text text-anchor=\"start\" x=\"172\" y=\"-94.8\" font-family=\"Times,serif\" font-size=\"14.00\" fill=\"#000000\">mu : Real()</text>\n<text text-anchor=\"start\" x=\"172\" y=\"-79.8\" font-family=\"Times,serif\" font-size=\"14.00\" fill=\"#000000\">sigma : GreaterThan(lower_bound=0.0)</text>\n</g>\n</g>\n</svg>\n"
          },
          "metadata": {},
          "execution_count": 7
        }
      ],
      "source": [
        "# guide = pyro.infer.autoguide.AutoNormal(model)\n",
        "pyro.render_model(guide, model_args=(data,), render_distributions=True, render_params=True)"
      ],
      "metadata": {
        "pycharm": {
          "name": "#%%\n"
        },
        "id": "7CIG9aI1pImQ",
        "colab": {
          "base_uri": "https://localhost:8080/",
          "height": 259
        },
        "outputId": "55c0cf2f-ea69-462a-a648-89ce51e2cb4f"
      }
    },
    {
      "cell_type": "markdown",
      "source": [
        "### Define optimizer\n",
        "\n",
        "Optional: do some tweaks to the optimizer and see if it changes the params and convergence."
      ],
      "metadata": {
        "collapsed": false,
        "pycharm": {
          "name": "#%% md\n"
        },
        "id": "jwV5Bg5IpImQ"
      }
    },
    {
      "cell_type": "code",
      "execution_count": 8,
      "outputs": [],
      "source": [
        "from pyro.optim import Adam\n",
        "\n",
        "adam_params = {\"lr\": 0.005}\n",
        "optimizer = Adam(adam_params)"
      ],
      "metadata": {
        "pycharm": {
          "name": "#%%\n"
        },
        "id": "DAFzF4YhpImR"
      }
    },
    {
      "cell_type": "markdown",
      "source": [
        "### Define [$SVI$ class](https://docs.pyro.ai/en/stable/inference_algos.html?highlight=svi)"
      ],
      "metadata": {
        "collapsed": false,
        "pycharm": {
          "name": "#%% md\n"
        },
        "id": "odkjMKpcpImS"
      }
    },
    {
      "cell_type": "code",
      "source": [],
      "metadata": {
        "id": "L18rfkW42yM_"
      },
      "execution_count": 8,
      "outputs": []
    },
    {
      "cell_type": "code",
      "execution_count": 9,
      "outputs": [],
      "source": [
        "from pyro.infer import SVI, Trace_ELBO\n",
        "\n",
        "svi = SVI(model, guide, optimizer, loss=Trace_ELBO())"
      ],
      "metadata": {
        "pycharm": {
          "name": "#%%\n"
        },
        "id": "qgo8zA34pImS"
      }
    },
    {
      "cell_type": "markdown",
      "source": [
        "### Do the inference; report the inferred mean and std"
      ],
      "metadata": {
        "collapsed": false,
        "pycharm": {
          "name": "#%% md\n"
        },
        "id": "8CUcuI8qpImT"
      }
    },
    {
      "cell_type": "code",
      "execution_count": 10,
      "outputs": [
        {
          "output_type": "stream",
          "name": "stderr",
          "text": [
            "100%|██████████| 500/500 [00:02<00:00, 189.65it/s]\n"
          ]
        }
      ],
      "source": [
        "n_steps = 500\n",
        "\n",
        "# do gradient steps\n",
        "losses = []\n",
        "means = []\n",
        "for step in tqdm(range(n_steps)):\n",
        "    losses += [svi.step(data)]\n",
        "    means += [pyro.param(\"mu\").item()]"
      ],
      "metadata": {
        "pycharm": {
          "name": "#%%\n"
        },
        "id": "r04F1ND3pImT",
        "colab": {
          "base_uri": "https://localhost:8080/"
        },
        "outputId": "7e11b5df-80b9-4dbd-b6e3-0e55de5c5f7d"
      }
    },
    {
      "cell_type": "code",
      "execution_count": 11,
      "outputs": [
        {
          "output_type": "stream",
          "name": "stdout",
          "text": [
            "Nauczone a: 3.3144967555999756, nauczone b: 5.440961837768555 \n",
            "Nauczone mu: 0.8642807602882385, nauczone sigma: 0.9681347012519836\n",
            "prawdziwe a: 2.7, b: 6.3, mu: 0, sigma: 1\n"
          ]
        }
      ],
      "source": [
        "# Report your parameters here\n",
        "print(f\"Nauczone a: {pyro.param('a').item()}, nauczone b: {pyro.param('b').item()} \\nNauczone mu: {pyro.param('mu').item()}, nauczone sigma: {pyro.param('sigma').item()}\")\n",
        "print(f\"prawdziwe a: {2.7}, b: {6.3}, mu: {0}, sigma: {1}\")"
      ],
      "metadata": {
        "pycharm": {
          "name": "#%%\n"
        },
        "id": "wU8s3_nkpImT",
        "colab": {
          "base_uri": "https://localhost:8080/"
        },
        "outputId": "4ac445d7-1547-46c4-e9fd-e545f96ba07e"
      }
    },
    {
      "cell_type": "markdown",
      "source": [
        "### Plot convergence (loss + mean wrt step)"
      ],
      "metadata": {
        "collapsed": false,
        "pycharm": {
          "name": "#%% md\n"
        },
        "id": "MIIkJpHrpImU"
      }
    },
    {
      "cell_type": "code",
      "source": [
        "fig, ax = plt.subplots()\n",
        "ax.plot(losses, label=\"ELBO loss\")\n",
        "ax.set_ylabel(\"ELBO loss\")\n",
        "plt.legend(loc=\"upper left\")\n",
        "ax2 = ax.twinx()\n",
        "ax2.plot(means, label=\"mean\", color=\"orange\")\n",
        "ax2.plot([0]*len(means), label=\"True $\\mu$\", color=\"red\")\n",
        "ax2.set_ylabel(\"Means\")\n",
        "plt.legend(loc=\"upper right\")\n",
        "plt.show()"
      ],
      "metadata": {
        "colab": {
          "base_uri": "https://localhost:8080/",
          "height": 265
        },
        "id": "pPeavRyAfPkw",
        "outputId": "c17619bc-edc8-4d70-bb73-ac06927de96a"
      },
      "execution_count": 12,
      "outputs": [
        {
          "output_type": "display_data",
          "data": {
            "text/plain": [
              "<Figure size 432x288 with 2 Axes>"
            ],
            "image/png": "[encoded data removed]"
          },
          "metadata": {
            "needs_background": "light"
          }
        }
      ]
    },
    {
      "cell_type": "markdown",
      "source": [
        "### Modify the model to use pyro.plate.\n",
        "Expect horror in tensor shapes. See [this tutorial on tensor shapes in Pyro if you will experience errors](https://pyro.ai/examples/tensor_shapes.html).\n",
        "\n",
        "a) Try simulating a larger dataset and render the graphical model.\n",
        "b) See if using plates it changes the params and convergence.\n",
        "c) What is the relatonship between plates and conditional independence in Pyro? **[TODO]**\n"
      ],
      "metadata": {
        "collapsed": false,
        "pycharm": {
          "name": "#%% md\n"
        },
        "id": "EIQzd8l3pImU"
      }
    },
    {
      "cell_type": "code",
      "execution_count": 13,
      "outputs": [
        {
          "output_type": "error",
          "ename": "SyntaxError",
          "evalue": "ignored",
          "traceback": [
            "\u001b[0;36m  File \u001b[0;32m\"<ipython-input-13-8c7d86ea95db>\"\u001b[0;36m, line \u001b[0;32m2\u001b[0m\n\u001b[0;31m    ### WOW, WOW, SUCH CODE ###\u001b[0m\n\u001b[0m                               ^\u001b[0m\n\u001b[0;31mSyntaxError\u001b[0m\u001b[0;31m:\u001b[0m unexpected EOF while parsing\n"
          ]
        }
      ],
      "source": [
        "def model(data):\n",
        "    ### WOW, WOW, SUCH CODE ###"
      ],
      "metadata": {
        "pycharm": {
          "name": "#%%\n"
        },
        "id": "8gF6Zg_rpImU",
        "colab": {
          "base_uri": "https://localhost:8080/",
          "height": 132
        },
        "outputId": "3a4e3cfc-f747-4af3-b815-2e5378f0c4ac"
      }
    },
    {
      "cell_type": "markdown",
      "source": [],
      "metadata": {
        "collapsed": false,
        "pycharm": {
          "name": "#%% md\n"
        },
        "id": "zTuPzFUNpImV"
      }
    },
    {
      "cell_type": "code",
      "execution_count": null,
      "outputs": [],
      "source": [
        "pyro.render_model(model, model_args=(data,), render_distributions=True)"
      ],
      "metadata": {
        "pycharm": {
          "name": "#%%\n"
        },
        "id": "tlFVikQapImV"
      }
    },
    {
      "cell_type": "code",
      "execution_count": null,
      "outputs": [],
      "source": [
        "svi = SVI(model, guide, optimizer, loss=Trace_ELBO())"
      ],
      "metadata": {
        "pycharm": {
          "name": "#%%\n"
        },
        "id": "r2_3uBD5pImW"
      }
    }
  ],
  "metadata": {
    "kernelspec": {
      "display_name": "Python 3",
      "language": "python",
      "name": "python3"
    },
    "language_info": {
      "codemirror_mode": {
        "name": "ipython",
        "version": 2
      },
      "file_extension": ".py",
      "mimetype": "text/x-python",
      "name": "python",
      "nbconvert_exporter": "python",
      "pygments_lexer": "ipython2",
      "version": "2.7.6"
    },
    "colab": {
      "provenance": [],
      "include_colab_link": true
    }
  },
  "nbformat": 4,
  "nbformat_minor": 0
}